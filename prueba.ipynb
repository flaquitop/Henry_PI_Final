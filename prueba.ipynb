{
 "cells": [
  {
   "cell_type": "code",
   "execution_count": 12,
   "metadata": {},
   "outputs": [],
   "source": [
    "import pandas as pd"
   ]
  },
  {
   "cell_type": "code",
   "execution_count": 9,
   "metadata": {},
   "outputs": [],
   "source": [
    "import csv"
   ]
  },
  {
   "cell_type": "code",
   "execution_count": 26,
   "metadata": {},
   "outputs": [],
   "source": [
    "df_userforgenre = pd.read_csv('./data/user_for_genre.csv')"
   ]
  },
  {
   "cell_type": "code",
   "execution_count": 27,
   "metadata": {},
   "outputs": [
    {
     "data": {
      "text/html": [
       "<div>\n",
       "<style scoped>\n",
       "    .dataframe tbody tr th:only-of-type {\n",
       "        vertical-align: middle;\n",
       "    }\n",
       "\n",
       "    .dataframe tbody tr th {\n",
       "        vertical-align: top;\n",
       "    }\n",
       "\n",
       "    .dataframe thead th {\n",
       "        text-align: right;\n",
       "    }\n",
       "</style>\n",
       "<table border=\"1\" class=\"dataframe\">\n",
       "  <thead>\n",
       "    <tr style=\"text-align: right;\">\n",
       "      <th></th>\n",
       "      <th>genres</th>\n",
       "      <th>user_id</th>\n",
       "      <th>release_year</th>\n",
       "      <th>playtime_forever</th>\n",
       "    </tr>\n",
       "  </thead>\n",
       "  <tbody>\n",
       "    <tr>\n",
       "      <th>0</th>\n",
       "      <td>1980s</td>\n",
       "      <td>76561198042170355</td>\n",
       "      <td>2015.0</td>\n",
       "      <td>10467</td>\n",
       "    </tr>\n",
       "    <tr>\n",
       "      <th>1</th>\n",
       "      <td>1990's</td>\n",
       "      <td>76561197995146150</td>\n",
       "      <td>2011.0</td>\n",
       "      <td>15820</td>\n",
       "    </tr>\n",
       "    <tr>\n",
       "      <th>2</th>\n",
       "      <td>1990's</td>\n",
       "      <td>76561197995146150</td>\n",
       "      <td>2012.0</td>\n",
       "      <td>122</td>\n",
       "    </tr>\n",
       "    <tr>\n",
       "      <th>3</th>\n",
       "      <td>2d</td>\n",
       "      <td>76561198083612270</td>\n",
       "      <td>2012.0</td>\n",
       "      <td>24664</td>\n",
       "    </tr>\n",
       "    <tr>\n",
       "      <th>4</th>\n",
       "      <td>3d platformer</td>\n",
       "      <td>76561197995146150</td>\n",
       "      <td>2011.0</td>\n",
       "      <td>15820</td>\n",
       "    </tr>\n",
       "    <tr>\n",
       "      <th>...</th>\n",
       "      <td>...</td>\n",
       "      <td>...</td>\n",
       "      <td>...</td>\n",
       "      <td>...</td>\n",
       "    </tr>\n",
       "    <tr>\n",
       "      <th>251</th>\n",
       "      <td>web publishing</td>\n",
       "      <td>Xyphien</td>\n",
       "      <td>2005.0</td>\n",
       "      <td>7296</td>\n",
       "    </tr>\n",
       "    <tr>\n",
       "      <th>252</th>\n",
       "      <td>web publishing</td>\n",
       "      <td>Xyphien</td>\n",
       "      <td>2012.0</td>\n",
       "      <td>64657</td>\n",
       "    </tr>\n",
       "    <tr>\n",
       "      <th>253</th>\n",
       "      <td>web publishing</td>\n",
       "      <td>Xyphien</td>\n",
       "      <td>2015.0</td>\n",
       "      <td>71011</td>\n",
       "    </tr>\n",
       "    <tr>\n",
       "      <th>254</th>\n",
       "      <td>zombies</td>\n",
       "      <td>76561198096003148</td>\n",
       "      <td>2015.0</td>\n",
       "      <td>607</td>\n",
       "    </tr>\n",
       "    <tr>\n",
       "      <th>255</th>\n",
       "      <td>e-sports</td>\n",
       "      <td>JinDoritos</td>\n",
       "      <td>2014.0</td>\n",
       "      <td>163777</td>\n",
       "    </tr>\n",
       "  </tbody>\n",
       "</table>\n",
       "<p>256 rows × 4 columns</p>\n",
       "</div>"
      ],
      "text/plain": [
       "             genres            user_id  release_year  playtime_forever\n",
       "0             1980s  76561198042170355        2015.0             10467\n",
       "1            1990's  76561197995146150        2011.0             15820\n",
       "2            1990's  76561197995146150        2012.0               122\n",
       "3                2d  76561198083612270        2012.0             24664\n",
       "4     3d platformer  76561197995146150        2011.0             15820\n",
       "..              ...                ...           ...               ...\n",
       "251  web publishing            Xyphien        2005.0              7296\n",
       "252  web publishing            Xyphien        2012.0             64657\n",
       "253  web publishing            Xyphien        2015.0             71011\n",
       "254         zombies  76561198096003148        2015.0               607\n",
       "255        e-sports         JinDoritos        2014.0            163777\n",
       "\n",
       "[256 rows x 4 columns]"
      ]
     },
     "execution_count": 27,
     "metadata": {},
     "output_type": "execute_result"
    }
   ],
   "source": [
    "df_userforgenre"
   ]
  },
  {
   "cell_type": "code",
   "execution_count": 14,
   "metadata": {},
   "outputs": [],
   "source": [
    "app = FastAPI()"
   ]
  },
  {
   "cell_type": "code",
   "execution_count": 42,
   "metadata": {},
   "outputs": [],
   "source": [
    "def get_user_for_genre(genero: str = None )-> dict:\n",
    "    \"\"\"reune el jugador que mas ah jugado por genero especifico    \n",
    "    Argumentos:\n",
    "        genero (str, optional): insertar genero del juego. Defaults to None.\n",
    "    Returns:\n",
    "        dict:\n",
    "    \"\"\"\n",
    "    df_filtrado_por_genero = df_userforgenre[df_userforgenre['genres'] == genero]\n",
    "    usuario_horas = df_filtrado_por_genero.groupby('user_id')['playtime_forever'].sum()\n",
    "    max_tiempo_x_usuario = usuario_horas.idxmax()\n",
    "\n",
    "    df_max_usuario = df_filtrado_por_genero[df_filtrado_por_genero['user_id'] == max_tiempo_x_usuario]\n",
    "    horas_x_anio = df_max_usuario.groupby('release_year')['playtime_forever'].sum().reset_index()\n",
    "    lista_x_anio = [\n",
    "        {'Año':year ,  'Horas': hours} for year, hours in zip(horas_x_anio['release_year'], horas_x_anio['playtime_forever'])\n",
    "    ]\n",
    "\n",
    "    resultado = {\n",
    "        'Usuario con mas horas jugadas para el genero {}'.format(genero) : max_tiempo_x_usuario,\n",
    "        'horas jugadas ': lista_x_anio\n",
    "    }\n",
    "\n",
    "    return resultado"
   ]
  },
  {
   "cell_type": "code",
   "execution_count": 43,
   "metadata": {},
   "outputs": [
    {
     "data": {
      "text/plain": [
       "{'Usuario con mas horas jugadas para el genero free to play': 'idonothack',\n",
       " 'horas jugadas ': [{'Año': 2006.0, 'Horas': 18},\n",
       "  {'Año': 2011.0, 'Horas': 8},\n",
       "  {'Año': 2012.0, 'Horas': 1794},\n",
       "  {'Año': 2013.0, 'Horas': 29914},\n",
       "  {'Año': 2014.0, 'Horas': 994},\n",
       "  {'Año': 2015.0, 'Horas': 757026},\n",
       "  {'Año': 2016.0, 'Horas': 16166},\n",
       "  {'Año': 2017.0, 'Horas': 2322}]}"
      ]
     },
     "execution_count": 43,
     "metadata": {},
     "output_type": "execute_result"
    }
   ],
   "source": [
    "get_user_for_genre('free to play')"
   ]
  }
 ],
 "metadata": {
  "kernelspec": {
   "display_name": "henry_venv",
   "language": "python",
   "name": "python3"
  },
  "language_info": {
   "codemirror_mode": {
    "name": "ipython",
    "version": 3
   },
   "file_extension": ".py",
   "mimetype": "text/x-python",
   "name": "python",
   "nbconvert_exporter": "python",
   "pygments_lexer": "ipython3",
   "version": "3.10.9"
  }
 },
 "nbformat": 4,
 "nbformat_minor": 2
}
