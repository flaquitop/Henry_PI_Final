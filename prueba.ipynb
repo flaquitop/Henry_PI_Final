{
 "cells": [
  {
   "cell_type": "code",
   "execution_count": 2,
   "metadata": {},
   "outputs": [],
   "source": [
    "import os\n",
    "import pandas as pd\n",
    "from fastapi import FastAPI, HTTPException\n",
    "from fastapi.responses import JSONResponse"
   ]
  },
  {
   "cell_type": "code",
   "execution_count": null,
   "metadata": {},
   "outputs": [],
   "source": [
    "df_userforgenre = pd.read_csv('./data/user_for_genre.csv')"
   ]
  },
  {
   "cell_type": "code",
   "execution_count": null,
   "metadata": {},
   "outputs": [],
   "source": [
    "df_userforgenre"
   ]
  },
  {
   "cell_type": "code",
   "execution_count": null,
   "metadata": {},
   "outputs": [],
   "source": [
    "app = FastAPI()"
   ]
  },
  {
   "cell_type": "code",
   "execution_count": null,
   "metadata": {},
   "outputs": [],
   "source": [
    "def get_user_for_genre(genero: str = None )-> dict:\n",
    "    \"\"\"reune el jugador que mas ah jugado por genero especifico    \n",
    "    Argumentos:\n",
    "        genero (str, optional): insertar genero del juego. Defaults to None.\n",
    "    Returns:\n",
    "        dict:\n",
    "    \"\"\"\n",
    "    df_filtrado_por_genero = df_userforgenre[df_userforgenre['genres'] == genero]\n",
    "    usuario_horas = df_filtrado_por_genero.groupby('user_id')['playtime_forever'].sum()\n",
    "    max_tiempo_x_usuario = usuario_horas.idxmax()\n",
    "\n",
    "    df_max_usuario = df_filtrado_por_genero[df_filtrado_por_genero['user_id'] == max_tiempo_x_usuario]\n",
    "    horas_x_anio = df_max_usuario.groupby('release_year')['playtime_forever'].sum().reset_index()\n",
    "    lista_x_anio = [\n",
    "        {'Año':year ,  'Horas': hours} for year, hours in zip(horas_x_anio['release_year'], horas_x_anio['playtime_forever'])\n",
    "    ]\n",
    "\n",
    "    resultado = {\n",
    "        'Usuario con mas horas jugadas para el genero {}'.format(genero) : max_tiempo_x_usuario,\n",
    "        'horas jugadas ': lista_x_anio\n",
    "    }\n",
    "\n",
    "    return resultado"
   ]
  },
  {
   "cell_type": "code",
   "execution_count": null,
   "metadata": {},
   "outputs": [],
   "source": [
    "get_user_for_genre('free to play')"
   ]
  },
  {
   "cell_type": "code",
   "execution_count": null,
   "metadata": {},
   "outputs": [],
   "source": [
    "df_steam_games = pd.read_csv('./data/df_steam_games.csv')\n",
    "df_users_items = pd.read_csv('./data/users_items.csv')"
   ]
  },
  {
   "cell_type": "code",
   "execution_count": null,
   "metadata": {},
   "outputs": [],
   "source": [
    "def playtime_genre(genero: str):\n",
    "\n",
    "    try:\n",
    "        if f'genres_{genero}_new' not in df_steam_games.columns:\n",
    "            raise HTTPException(status_code=404, detail=f\"No hay datos para el género {genero}\")\n",
    "\n",
    "        genre_data = df_steam_games[df_steam_games[f'genres_{genero}_new'] == 1]\n",
    "        genre_data['user_id'] = genre_data['user_id'].astype('object')\n",
    "\n",
    "        merged_data = pd.merge(genre_data, df_users_items, on='user_id', how='inner')\n",
    "        year_with_most_playtime = merged_data.groupby('año de lanzamiento')['playtime_forever'].sum().idxmax()\n",
    "\n",
    "        return {\"Año de lanzamiento con más horas jugadas para \" + genero: int(year_with_most_playtime)}\n",
    "\n",
    "    except Exception as e:\n",
    "        raise HTTPException(status_code=500, detail=f\"Error interno: {str(e)}\")"
   ]
  },
  {
   "cell_type": "code",
   "execution_count": null,
   "metadata": {},
   "outputs": [],
   "source": [
    "playtime_genre('action')"
   ]
  },
  {
   "cell_type": "code",
   "execution_count": 3,
   "metadata": {},
   "outputs": [],
   "source": [
    "from pydantic import BaseModel\n",
    "from dateutil import parser\n",
    "from typing import List\n",
    "import pyarrow.parquet as pq\n",
    "import os\n",
    "import string\n",
    "import re"
   ]
  },
  {
   "cell_type": "code",
   "execution_count": null,
   "metadata": {},
   "outputs": [],
   "source": [
    "def developer(desarrollador):\n",
    "    '''\n",
    "    Esta función devuelve información sobre una empresa desarrolladora de videojuegos.\n",
    "         \n",
    "    Args:\n",
    "        desarrollador (str): Nombre del desarrollador de videojuegos.\n",
    "    \n",
    "    Returns:\n",
    "        dict: Un diccionario que contiene información sobre la empresa desarrolladora.\n",
    "            - 'cantidad_por_año' (dict): Cantidad de items desarrollados por año.\n",
    "            - 'porcentaje_gratis_por_año' (dict): Porcentaje de contenido gratuito por año según la empresa desarrolladora.\n",
    "    '''\n",
    "    # Filtra el dataframe por desarrollador de interés\n",
    "    data_filtrada = df_items_developer[df_items_developer['developer'] == desarrollador]\n",
    "    # Calcula la cantidad de items por año\n",
    "    cantidad_por_año = data_filtrada.groupby('release_anio')['item_id'].count()\n",
    "    # Calcula la cantidad de elementos gratis por año\n",
    "    cantidad_gratis_por_año = data_filtrada[data_filtrada['price'] == 0.0].groupby('release_anio')['item_id'].count()\n",
    "    # Calcula el porcentaje de elementos gratis por año\n",
    "    porcentaje_gratis_por_año = (cantidad_gratis_por_año / cantidad_por_año * 100).fillna(0).astype(int)\n",
    "\n",
    "    result_dict = {\n",
    "        'cantidad_por_año': cantidad_por_año.to_dict(),\n",
    "        'porcentaje_gratis_por_año': porcentaje_gratis_por_año.to_dict()\n",
    "    }\n",
    "    \n",
    "    return result_dict"
   ]
  },
  {
   "cell_type": "code",
   "execution_count": null,
   "metadata": {},
   "outputs": [],
   "source": []
  }
 ],
 "metadata": {
  "kernelspec": {
   "display_name": "henry_venv",
   "language": "python",
   "name": "python3"
  },
  "language_info": {
   "codemirror_mode": {
    "name": "ipython",
    "version": 3
   },
   "file_extension": ".py",
   "mimetype": "text/x-python",
   "name": "python",
   "nbconvert_exporter": "python",
   "pygments_lexer": "ipython3",
   "version": "3.10.9"
  }
 },
 "nbformat": 4,
 "nbformat_minor": 2
}
